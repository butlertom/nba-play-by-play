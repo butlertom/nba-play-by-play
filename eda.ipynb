{
 "cells": [
  {
   "cell_type": "markdown",
   "id": "3314e629",
   "metadata": {},
   "source": [
    "### NBA Play-By-Play Data: EDA"
   ]
  },
  {
   "cell_type": "code",
   "execution_count": null,
   "id": "2b47687c",
   "metadata": {},
   "outputs": [],
   "source": [
    "import os\n",
    "import numpy as np\n",
    "import pandas as pd\n",
    "\n",
    "pd.set_option(\"display.max_columns\", 50)\n",
    "pd.set_option(\"display.max_colwidth\", None)\n",
    "\n",
    "%load_ext lab_black"
   ]
  },
  {
   "cell_type": "markdown",
   "id": "86d01775",
   "metadata": {},
   "source": [
    "What would it look like if you plotted the score of a game by time?"
   ]
  },
  {
   "cell_type": "code",
   "execution_count": null,
   "id": "b590ff5c",
   "metadata": {},
   "outputs": [],
   "source": [
    "id_fields = [\"GameType\", \"Date\", \"Quarter\", \"SecLeft\", \"AwayTeam\", \"HomeTeam\"]"
   ]
  },
  {
   "cell_type": "code",
   "execution_count": null,
   "id": "5f2aa5e6",
   "metadata": {},
   "outputs": [],
   "source": [
    "player_field = [\n",
    "    \"Shooter\",\n",
    "    \"Assister\",\n",
    "    \"Blocker\",\n",
    "    \"Fouler\",\n",
    "    \"Rebounder\",\n",
    "    \"ViolationPlayer\",\n",
    "    \"FreeThrowShooter\",\n",
    "    \"TurnoverPlayer\",\n",
    "    \"TurnoverCauser\",\n",
    "]"
   ]
  },
  {
   "cell_type": "code",
   "execution_count": null,
   "id": "dacf73b6",
   "metadata": {},
   "outputs": [],
   "source": [
    "df = pd.read_csv(\"NBA_PBP_2019-20.csv\")\n",
    "df[\"Play\"] = df[\"AwayPlay\"].fillna(\"\") + df[\"HomePlay\"].fillna(\"\")"
   ]
  },
  {
   "cell_type": "code",
   "execution_count": null,
   "id": "8e5522e0",
   "metadata": {},
   "outputs": [],
   "source": [
    "df[\"shot\"] = df[\"ShotType\"].fillna(\"\") + df[\"FreeThrowNum\"].fillna(\"\").apply(\n",
    "    lambda x: \"1\" if len(x) > 0 else x\n",
    ")\n",
    "df[\"outcome\"] = df[\"ShotOutcome\"].fillna(\"\") + df[\"FreeThrowOutcome\"].fillna(\"\")\n",
    "df[\"scorer\"] = df[\"Shooter\"].fillna(\"\") + df[\"FreeThrowShooter\"].fillna(\"\")"
   ]
  },
  {
   "cell_type": "code",
   "execution_count": null,
   "id": "311ff997",
   "metadata": {},
   "outputs": [],
   "source": [
    "df[\"points\"] = df[\"shot\"].apply(get_points)"
   ]
  },
  {
   "cell_type": "code",
   "execution_count": null,
   "id": "40240855",
   "metadata": {},
   "outputs": [],
   "source": [
    "def get_points(shot):\n",
    "    try:\n",
    "        return int(shot[0])\n",
    "    except:\n",
    "        return 0"
   ]
  },
  {
   "cell_type": "markdown",
   "id": "183ee8cf",
   "metadata": {},
   "source": [
    "### Group by the game level"
   ]
  },
  {
   "cell_type": "code",
   "execution_count": null,
   "id": "a1e2cdef",
   "metadata": {},
   "outputs": [],
   "source": [
    "games = df.groupby(\"URL\")"
   ]
  },
  {
   "cell_type": "code",
   "execution_count": null,
   "id": "a8a469c0",
   "metadata": {},
   "outputs": [],
   "source": [
    "summary = games.agg(\n",
    "    {\n",
    "        \"GameType\": max,\n",
    "        \"HomeTeam\": max,\n",
    "        \"AwayTeam\": max,\n",
    "        \"HomeScore\": max,\n",
    "        \"AwayScore\": max,\n",
    "        \"Date\": max,\n",
    "        \"Time\": max,\n",
    "    }\n",
    ").merge(\n",
    "    games.apply(summarise_game).reset_index().set_index(\"URL\").drop(\"level_1\", axis=1),\n",
    "    left_index=True,\n",
    "    right_index=True,\n",
    ")\n",
    "\n",
    "summary.to_csv(\"data/2019_20_season_games.csv\")"
   ]
  },
  {
   "cell_type": "code",
   "execution_count": null,
   "id": "7f7f19de",
   "metadata": {},
   "outputs": [],
   "source": [
    "summary[\"TopScorer\"].value_counts().iloc[:20]"
   ]
  },
  {
   "cell_type": "code",
   "execution_count": null,
   "id": "ef296240",
   "metadata": {},
   "outputs": [],
   "source": [
    "game_id = \"/boxscores/202010110MIA.html\"\n",
    "game = df.query(\"URL == @game_id\").copy()"
   ]
  },
  {
   "cell_type": "code",
   "execution_count": null,
   "id": "dc216f41",
   "metadata": {},
   "outputs": [],
   "source": [
    "def summarise_game(plays):\n",
    "    \"\"\"Summarises a game to leading scorer etc\"\"\"\n",
    "    # get leading scorer\n",
    "    highest_scorers = (\n",
    "        plays.query(\"outcome == 'make'\")\n",
    "        .groupby(\"scorer\")[\"points\"]\n",
    "        .sum()\n",
    "        .sort_values(ascending=False)\n",
    "    )\n",
    "    top_scorer = highest_scorers.index[0]\n",
    "    top_scorer_total = highest_scorers[0]\n",
    "\n",
    "    # get leading assister\n",
    "    highest_assists = (\n",
    "        plays.groupby(\"Assister\")[\"ShotOutcome\"].count().sort_values(ascending=False)\n",
    "    )\n",
    "    top_assister = highest_assists.index[0]\n",
    "    top_assist_total = highest_assists[0]\n",
    "\n",
    "    # get leading rebounder\n",
    "    highest_rebounds = (\n",
    "        plays.query(\"Rebounder != 'Team'\")\n",
    "        .groupby(\"Rebounder\")[\"ReboundType\"]\n",
    "        .count()\n",
    "        .sort_values(ascending=False)\n",
    "    )\n",
    "    top_rebounder = highest_rebounds.index[0]\n",
    "    top_rebound_total = highest_rebounds[0]\n",
    "\n",
    "    box_score_summary = pd.DataFrame.from_dict(\n",
    "        {\n",
    "            \"TopScorer\": top_scorer,\n",
    "            \"TopScorerPoints\": top_scorer_total,\n",
    "            \"TopAssister\": top_assister,\n",
    "            \"TopAssisterTotal\": top_assist_total,\n",
    "            \"TopRebounder\": top_rebounder,\n",
    "            \"TopRebounderTotal\": top_rebound_total,\n",
    "        },\n",
    "        orient=\"index\",\n",
    "    ).T\n",
    "\n",
    "    #     print(f\"Top scorer in the plays: {top_scorer} with {top_scorer_total} points.\")\n",
    "    #     print(f\"Top assister in the plays: {top_assister} with {top_assist_total} assists.\")\n",
    "    #     print(f\"Top rebounder in the plays: {top_rebounder} with {top_rebound_total} rebounds.\")\n",
    "\n",
    "    return box_score_summary"
   ]
  },
  {
   "cell_type": "code",
   "execution_count": null,
   "id": "9b1eda43",
   "metadata": {},
   "outputs": [],
   "source": [
    "game[\"points\"] = game[\"ShotType\"].apply(get_points)"
   ]
  },
  {
   "cell_type": "code",
   "execution_count": null,
   "id": "26cafd21",
   "metadata": {},
   "outputs": [],
   "source": [
    "game.query(\"ShotType == ShotType\").query(\"ShotOutcome == 'make'\")[\n",
    "    [\"HomeScore\", \"AwayScore\", \"Shooter\", \"ShotType\", \"ShotOutcome\", \"points\"]\n",
    "].head()"
   ]
  },
  {
   "cell_type": "code",
   "execution_count": null,
   "id": "211b4437",
   "metadata": {},
   "outputs": [],
   "source": [
    "df[id_fields + player_field].query(\"Assister == Assister\")"
   ]
  },
  {
   "cell_type": "code",
   "execution_count": null,
   "id": "6e084bce",
   "metadata": {},
   "outputs": [],
   "source": [
    "df.iloc[:5, 1:]"
   ]
  },
  {
   "cell_type": "code",
   "execution_count": null,
   "id": "010caea7",
   "metadata": {},
   "outputs": [],
   "source": [
    "df.filter(like=\"er\")"
   ]
  },
  {
   "cell_type": "code",
   "execution_count": null,
   "id": "36b9b1ee",
   "metadata": {},
   "outputs": [],
   "source": []
  },
  {
   "cell_type": "code",
   "execution_count": null,
   "id": "7ea33a13",
   "metadata": {},
   "outputs": [],
   "source": [
    "df.tail()"
   ]
  },
  {
   "cell_type": "code",
   "execution_count": null,
   "id": "37315b09",
   "metadata": {},
   "outputs": [],
   "source": [
    "df.filter(like=\"Player\")"
   ]
  },
  {
   "cell_type": "code",
   "execution_count": null,
   "id": "f66e60b8",
   "metadata": {},
   "outputs": [],
   "source": [
    "df.head()"
   ]
  },
  {
   "cell_type": "code",
   "execution_count": null,
   "id": "61c9ee39",
   "metadata": {},
   "outputs": [],
   "source": [
    "df = pd.read_csv(\"NBA_PBP_2020-21.csv\")\n",
    "df[\"Play\"] = df[\"AwayPlay\"].fillna(\"\") + df[\"HomePlay\"].fillna(\"\")"
   ]
  },
  {
   "cell_type": "code",
   "execution_count": null,
   "id": "9ab84b05",
   "metadata": {},
   "outputs": [],
   "source": [
    "# can make this into an event stream, just need to get an identifier for the player"
   ]
  },
  {
   "cell_type": "code",
   "execution_count": null,
   "id": "85576615",
   "metadata": {},
   "outputs": [],
   "source": [
    "for row in df.iloc[:110].iterrows():\n",
    "    data = row[1]\n",
    "\n",
    "    quarter = data[\"Quarter\"]\n",
    "    time = data[\"SecLeft\"]\n",
    "    play = data[\"Play\"]\n",
    "\n",
    "    time_mins = f\"{str(time//60).zfill(2)}:{str(time%60).zfill(2)}\"\n",
    "\n",
    "    print(f\"Q{quarter} - {time_mins} - {play}\")"
   ]
  },
  {
   "cell_type": "code",
   "execution_count": null,
   "id": "9750a88d",
   "metadata": {},
   "outputs": [],
   "source": []
  }
 ],
 "metadata": {
  "kernelspec": {
   "display_name": "pytorch",
   "language": "python",
   "name": "pytorch"
  },
  "language_info": {
   "codemirror_mode": {
    "name": "ipython",
    "version": 3
   },
   "file_extension": ".py",
   "mimetype": "text/x-python",
   "name": "python",
   "nbconvert_exporter": "python",
   "pygments_lexer": "ipython3",
   "version": "3.8.15"
  }
 },
 "nbformat": 4,
 "nbformat_minor": 5
}
